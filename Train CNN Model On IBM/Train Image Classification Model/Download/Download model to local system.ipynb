{
 "cells": [
  {
   "cell_type": "code",
   "execution_count": 1,
   "id": "55b80c85",
   "metadata": {},
   "outputs": [
    {
     "name": "stdout",
     "output_type": "stream",
     "text": [
      "Requirement already satisfied: watson_machine_learning_client in c:\\users\\mitran\\anaconda3\\lib\\site-packages (1.0.391)\n",
      "Requirement already satisfied: certifi in c:\\users\\mitran\\anaconda3\\lib\\site-packages (from watson_machine_learning_client) (2021.10.8)\n",
      "Requirement already satisfied: pandas in c:\\users\\mitran\\anaconda3\\lib\\site-packages (from watson_machine_learning_client) (1.4.2)\n",
      "Requirement already satisfied: tqdm in c:\\users\\mitran\\anaconda3\\lib\\site-packages (from watson_machine_learning_client) (4.64.0)\n",
      "Requirement already satisfied: lomond in c:\\users\\mitran\\anaconda3\\lib\\site-packages (from watson_machine_learning_client) (0.3.3)\n",
      "Requirement already satisfied: ibm-cos-sdk in c:\\users\\mitran\\anaconda3\\lib\\site-packages (from watson_machine_learning_client) (2.12.0)\n",
      "Requirement already satisfied: boto3 in c:\\users\\mitran\\anaconda3\\lib\\site-packages (from watson_machine_learning_client) (1.21.32)\n",
      "Requirement already satisfied: requests in c:\\users\\mitran\\anaconda3\\lib\\site-packages (from watson_machine_learning_client) (2.27.1)\n",
      "Requirement already satisfied: tabulate in c:\\users\\mitran\\anaconda3\\lib\\site-packages (from watson_machine_learning_client) (0.8.9)\n",
      "Requirement already satisfied: urllib3 in c:\\users\\mitran\\anaconda3\\lib\\site-packages (from watson_machine_learning_client) (1.26.9)\n",
      "Requirement already satisfied: jmespath<2.0.0,>=0.7.1 in c:\\users\\mitran\\anaconda3\\lib\\site-packages (from boto3->watson_machine_learning_client) (0.10.0)\n",
      "Requirement already satisfied: botocore<1.25.0,>=1.24.32 in c:\\users\\mitran\\anaconda3\\lib\\site-packages (from boto3->watson_machine_learning_client) (1.24.32)\n",
      "Requirement already satisfied: s3transfer<0.6.0,>=0.5.0 in c:\\users\\mitran\\anaconda3\\lib\\site-packages (from boto3->watson_machine_learning_client) (0.5.0)\n",
      "Requirement already satisfied: python-dateutil<3.0.0,>=2.1 in c:\\users\\mitran\\anaconda3\\lib\\site-packages (from botocore<1.25.0,>=1.24.32->boto3->watson_machine_learning_client) (2.8.2)\n",
      "Requirement already satisfied: six>=1.5 in c:\\users\\mitran\\anaconda3\\lib\\site-packages (from python-dateutil<3.0.0,>=2.1->botocore<1.25.0,>=1.24.32->boto3->watson_machine_learning_client) (1.16.0)\n",
      "Requirement already satisfied: ibm-cos-sdk-core==2.12.0 in c:\\users\\mitran\\anaconda3\\lib\\site-packages (from ibm-cos-sdk->watson_machine_learning_client) (2.12.0)\n",
      "Requirement already satisfied: ibm-cos-sdk-s3transfer==2.12.0 in c:\\users\\mitran\\anaconda3\\lib\\site-packages (from ibm-cos-sdk->watson_machine_learning_client) (2.12.0)\n",
      "Requirement already satisfied: idna<4,>=2.5 in c:\\users\\mitran\\anaconda3\\lib\\site-packages (from requests->watson_machine_learning_client) (3.3)\n",
      "Requirement already satisfied: charset-normalizer~=2.0.0 in c:\\users\\mitran\\anaconda3\\lib\\site-packages (from requests->watson_machine_learning_client) (2.0.4)\n",
      "Requirement already satisfied: numpy>=1.18.5 in c:\\users\\mitran\\anaconda3\\lib\\site-packages (from pandas->watson_machine_learning_client) (1.23.4)\n",
      "Requirement already satisfied: pytz>=2020.1 in c:\\users\\mitran\\anaconda3\\lib\\site-packages (from pandas->watson_machine_learning_client) (2021.3)\n",
      "Requirement already satisfied: colorama in c:\\users\\mitran\\anaconda3\\lib\\site-packages (from tqdm->watson_machine_learning_client) (0.4.4)\n"
     ]
    }
   ],
   "source": [
    "!pip install watson_machine_learning_client"
   ]
  },
  {
   "cell_type": "code",
   "execution_count": 2,
   "id": "c45596b0",
   "metadata": {},
   "outputs": [
    {
     "name": "stderr",
     "output_type": "stream",
     "text": [
      "C:\\Users\\Mitran\\anaconda3\\lib\\site-packages\\scipy\\__init__.py:146: UserWarning: A NumPy version >=1.16.5 and <1.23.0 is required for this version of SciPy (detected version 1.23.4\n",
      "  warnings.warn(f\"A NumPy version >={np_minversion} and <{np_maxversion}\"\n"
     ]
    }
   ],
   "source": [
    "from ibm_watson_machine_learning import APIClient\n",
    "url_credentials = {\n",
    "    \"url\": \"https://us-south.ml.cloud.ibm.com\",\n",
    "    #\"apikey\": \"sqLVTXSP3nnAKfzJ1rKRKCpNzS_XZ8_HXa9FRwV7BvOP\"\n",
    "    \"apikey\":  \"bfMnwgw13qwE2GAODimxSzGFaGJ9GYeSrDSZaixN8CaF\"\n",
    "}\n",
    "client = APIClient(url_credentials)"
   ]
  },
  {
   "cell_type": "code",
   "execution_count": 4,
   "id": "b5573de0",
   "metadata": {},
   "outputs": [
    {
     "data": {
      "text/plain": [
       "<ibm_watson_machine_learning.client.APIClient at 0x27ad6ec2ee0>"
      ]
     },
     "execution_count": 4,
     "metadata": {},
     "output_type": "execute_result"
    }
   ],
   "source": [
    "client = APIClient(url_credentials)\n",
    "client"
   ]
  },
  {
   "cell_type": "code",
   "execution_count": 5,
   "id": "36f38742",
   "metadata": {},
   "outputs": [],
   "source": [
    "def guid_from_space_name(client, space_name):\n",
    "    space = client.spaces.get_details()\n",
    "    return(next(item for item in space['resources'] if item['entity']['name'] == space_name)['metadata']['id'])"
   ]
  },
  {
   "cell_type": "code",
   "execution_count": 6,
   "id": "19113b2b",
   "metadata": {},
   "outputs": [
    {
     "name": "stdout",
     "output_type": "stream",
     "text": [
      "space UID = 4eb910b3-4c31-4a39-bc9c-cf36f1dc539f\n"
     ]
    }
   ],
   "source": [
    "space_uid = guid_from_space_name(client, 'Real-Time Communication System Through AI for Specially Abled')\n",
    "print(\"space UID = \" + space_uid)"
   ]
  },
  {
   "cell_type": "code",
   "execution_count": 7,
   "id": "bdef75cf",
   "metadata": {},
   "outputs": [
    {
     "data": {
      "text/plain": [
       "'SUCCESS'"
      ]
     },
     "execution_count": 7,
     "metadata": {},
     "output_type": "execute_result"
    }
   ],
   "source": [
    "client.set.default_space(space_uid)"
   ]
  },
  {
   "cell_type": "code",
   "execution_count": 8,
   "id": "a903cbd4",
   "metadata": {},
   "outputs": [
    {
     "name": "stdout",
     "output_type": "stream",
     "text": [
      "-----------------------------  ------------------------------------  ----\n",
      "NAME                           ASSET_ID                              TYPE\n",
      "default_py3.6                  0062b8c9-8b7d-44a0-a9b9-46c416adcbd9  base\n",
      "kernel-spark3.2-scala2.12      020d69ce-7ac1-5e68-ac1a-31189867356a  base\n",
      "pytorch-onnx_1.3-py3.7-edt     069ea134-3346-5748-b513-49120e15d288  base\n",
      "scikit-learn_0.20-py3.6        09c5a1d0-9c1e-4473-a344-eb7b665ff687  base\n",
      "spark-mllib_3.0-scala_2.12     09f4cff0-90a7-5899-b9ed-1ef348aebdee  base\n",
      "pytorch-onnx_rt22.1-py3.9      0b848dd4-e681-5599-be41-b5f6fccc6471  base\n",
      "ai-function_0.1-py3.6          0cdb0f1e-5376-4f4d-92dd-da3b69aa9bda  base\n",
      "shiny-r3.6                     0e6e79df-875e-4f24-8ae9-62dcc2148306  base\n",
      "tensorflow_2.4-py3.7-horovod   1092590a-307d-563d-9b62-4eb7d64b3f22  base\n",
      "pytorch_1.1-py3.6              10ac12d6-6b30-4ccd-8392-3e922c096a92  base\n",
      "tensorflow_1.15-py3.6-ddl      111e41b3-de2d-5422-a4d6-bf776828c4b7  base\n",
      "autoai-kb_rt22.2-py3.10        125b6d9a-5b1f-5e8d-972a-b251688ccf40  base\n",
      "runtime-22.1-py3.9             12b83a17-24d8-5082-900f-0ab31fbfd3cb  base\n",
      "scikit-learn_0.22-py3.6        154010fa-5b3b-4ac1-82af-4d5ee5abbc85  base\n",
      "default_r3.6                   1b70aec3-ab34-4b87-8aa0-a4a3c8296a36  base\n",
      "pytorch-onnx_1.3-py3.6         1bc6029a-cc97-56da-b8e0-39c3880dbbe7  base\n",
      "kernel-spark3.3-r3.6           1c9e5454-f216-59dd-a20e-474a5cdf5988  base\n",
      "pytorch-onnx_rt22.1-py3.9-edt  1d362186-7ad5-5b59-8b6c-9d0880bde37f  base\n",
      "tensorflow_2.1-py3.6           1eb25b84-d6ed-5dde-b6a5-3fbdf1665666  base\n",
      "spark-mllib_3.2                20047f72-0a98-58c7-9ff5-a77b012eb8f5  base\n",
      "tensorflow_2.4-py3.8-horovod   217c16f6-178f-56bf-824a-b19f20564c49  base\n",
      "runtime-22.1-py3.9-cuda        26215f05-08c3-5a41-a1b0-da66306ce658  base\n",
      "do_py3.8                       295addb5-9ef9-547e-9bf4-92ae3563e720  base\n",
      "autoai-ts_3.8-py3.8            2aa0c932-798f-5ae9-abd6-15e0c2402fb5  base\n",
      "tensorflow_1.15-py3.6          2b73a275-7cbf-420b-a912-eae7f436e0bc  base\n",
      "kernel-spark3.3-py3.9          2b7961e2-e3b1-5a8c-a491-482c8368839a  base\n",
      "pytorch_1.2-py3.6              2c8ef57d-2687-4b7d-acce-01f94976dac1  base\n",
      "spark-mllib_2.3                2e51f700-bca0-4b0d-88dc-5c6791338875  base\n",
      "pytorch-onnx_1.1-py3.6-edt     32983cea-3f32-4400-8965-dde874a8d67e  base\n",
      "spark-mllib_3.0-py37           36507ebe-8770-55ba-ab2a-eafe787600e9  base\n",
      "spark-mllib_2.4                390d21f8-e58b-4fac-9c55-d7ceda621326  base\n",
      "autoai-ts_rt22.2-py3.10        396b2e83-0953-5b86-9a55-7ce1628a406f  base\n",
      "xgboost_0.82-py3.6             39e31acd-5f30-41dc-ae44-60233c80306e  base\n",
      "pytorch-onnx_1.2-py3.6-edt     40589d0e-7019-4e28-8daa-fb03b6f4fe12  base\n",
      "pytorch-onnx_rt22.2-py3.10     40e73f55-783a-5535-b3fa-0c8b94291431  base\n",
      "default_r36py38                41c247d3-45f8-5a71-b065-8580229facf0  base\n",
      "autoai-ts_rt22.1-py3.9         4269d26e-07ba-5d40-8f66-2d495b0c71f7  base\n",
      "autoai-obm_3.0                 42b92e18-d9ab-567f-988a-4240ba1ed5f7  base\n",
      "pmml-3.0_4.3                   493bcb95-16f1-5bc5-bee8-81b8af80e9c7  base\n",
      "spark-mllib_2.4-r_3.6          49403dff-92e9-4c87-a3d7-a42d0021c095  base\n",
      "xgboost_0.90-py3.6             4ff8d6c2-1343-4c18-85e1-689c965304d3  base\n",
      "pytorch-onnx_1.1-py3.6         50f95b2a-bc16-43bb-bc94-b0bed208c60b  base\n",
      "autoai-ts_3.9-py3.8            52c57136-80fa-572e-8728-a5e7cbb42cde  base\n",
      "spark-mllib_2.4-scala_2.11     55a70f99-7320-4be5-9fb9-9edb5a443af5  base\n",
      "spark-mllib_3.0                5c1b0ca2-4977-5c2e-9439-ffd44ea8ffe9  base\n",
      "autoai-obm_2.0                 5c2e37fa-80b8-5e77-840f-d912469614ee  base\n",
      "spss-modeler_18.1              5c3cad7e-507f-4b2a-a9a3-ab53a21dee8b  base\n",
      "cuda-py3.8                     5d3232bf-c86b-5df4-a2cd-7bb870a1cd4e  base\n",
      "runtime-22.2-py3.10-xc         5e8cddff-db4a-5a6a-b8aa-2d4af9864dab  base\n",
      "autoai-kb_3.1-py3.7            632d4b22-10aa-5180-88f0-f52dfb6444d7  base\n",
      "-----------------------------  ------------------------------------  ----\n",
      "Note: Only first 50 records were displayed. To display more use 'limit' parameter.\n"
     ]
    }
   ],
   "source": [
    "client.software_specifications.list()"
   ]
  },
  {
   "cell_type": "code",
   "execution_count": 9,
   "id": "3c86b9f0",
   "metadata": {},
   "outputs": [
    {
     "name": "stdout",
     "output_type": "stream",
     "text": [
      "Successfully saved model content to file: 'ibm_model.tar.gz'\n"
     ]
    },
    {
     "data": {
      "text/plain": [
       "'C:\\\\Users\\\\Mitran\\\\Desktop\\\\pythonProject2\\\\IBM/ibm_model.tar.gz'"
      ]
     },
     "execution_count": 9,
     "metadata": {},
     "output_type": "execute_result"
    }
   ],
   "source": [
    "client.repository.download(\"2f3ecede-e88e-44bc-85e3-83870c5a0802\",'ibm_model.tar.gz')"
   ]
  }
 ],
 "metadata": {
  "kernelspec": {
   "display_name": "Python 3 (ipykernel)",
   "language": "python",
   "name": "python3"
  },
  "language_info": {
   "codemirror_mode": {
    "name": "ipython",
    "version": 3
   },
   "file_extension": ".py",
   "mimetype": "text/x-python",
   "name": "python",
   "nbconvert_exporter": "python",
   "pygments_lexer": "ipython3",
   "version": "3.9.12"
  }
 },
 "nbformat": 4,
 "nbformat_minor": 5
}
