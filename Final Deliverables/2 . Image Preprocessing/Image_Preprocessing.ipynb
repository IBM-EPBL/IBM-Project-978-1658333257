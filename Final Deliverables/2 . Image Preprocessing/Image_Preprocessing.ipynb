{
  "cells": [
    {
      "cell_type": "markdown",
      "source": [
        "Team ID : PNT2022TMID44336"
      ],
      "metadata": {
        "id": "-8v29ARa4_MV"
      },
      "id": "-8v29ARa4_MV"
    },
    {
      "cell_type": "markdown",
      "source": [
        "# **Image Preprocessing**"
      ],
      "metadata": {
        "id": "lPTF3yU94lRG"
      },
      "id": "lPTF3yU94lRG"
    },
    {
      "cell_type": "markdown",
      "source": [
        "## Import ImageDataGenerator Library and Configure it"
      ],
      "metadata": {
        "id": "mwtjvBLU4Q7F"
      },
      "id": "mwtjvBLU4Q7F"
    },
    {
      "cell_type": "code",
      "execution_count": 1,
      "id": "5de330e0",
      "metadata": {
        "id": "5de330e0"
      },
      "outputs": [],
      "source": [
        "from keras.preprocessing.image import ImageDataGenerator\n",
        "train_datagen = ImageDataGenerator(rescale =1./255 , shear_range=0.2, zoom_range=0.2, horizontal_flip=True)\n",
        "test_datagen = ImageDataGenerator(rescale =1./255)"
      ]
    },
    {
      "cell_type": "markdown",
      "source": [
        "## Apply ImageDataGenerator functionality to Train and Test set"
      ],
      "metadata": {
        "id": "yLXYvGKC41I6"
      },
      "id": "yLXYvGKC41I6"
    },
    {
      "cell_type": "code",
      "execution_count": null,
      "id": "dd2c2ba3",
      "metadata": {
        "id": "dd2c2ba3",
        "outputId": "da4264a0-1da1-45d8-ab84-cc430d5c0e85"
      },
      "outputs": [
        {
          "name": "stdout",
          "output_type": "stream",
          "text": [
            "Found 15750 images belonging to 9 classes.\n"
          ]
        }
      ],
      "source": [
        "x_train = train_datagen.flow_from_directory('dataset/training_set',target_size=(64,64),batch_size=300,class_mode='categorical',color_mode=\"grayscale\")"
      ]
    },
    {
      "cell_type": "code",
      "execution_count": null,
      "id": "f93cc75e",
      "metadata": {
        "id": "f93cc75e",
        "outputId": "d444b056-5e37-415a-bf3b-52dc70d9c15a"
      },
      "outputs": [
        {
          "name": "stdout",
          "output_type": "stream",
          "text": [
            "Found 2250 images belonging to 9 classes.\n"
          ]
        }
      ],
      "source": [
        "x_test = test_datagen.flow_from_directory('dataset/test_set',target_size=(64,64),batch_size=300,class_mode='categorical',color_mode=\"grayscale\")"
      ]
    }
  ],
  "metadata": {
    "kernelspec": {
      "display_name": "Python 3 (ipykernel)",
      "language": "python",
      "name": "python3"
    },
    "language_info": {
      "codemirror_mode": {
        "name": "ipython",
        "version": 3
      },
      "file_extension": ".py",
      "mimetype": "text/x-python",
      "name": "python",
      "nbconvert_exporter": "python",
      "pygments_lexer": "ipython3",
      "version": "3.9.4"
    },
    "colab": {
      "provenance": []
    }
  },
  "nbformat": 4,
  "nbformat_minor": 5
}