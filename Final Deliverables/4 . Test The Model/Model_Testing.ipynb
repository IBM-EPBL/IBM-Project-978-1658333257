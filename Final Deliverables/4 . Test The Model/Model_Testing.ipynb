{
  "cells": [
    {
      "cell_type": "markdown",
      "source": [
        "Team ID : PNT2022TMID44336"
      ],
      "metadata": {
        "id": "6QzGBSgVELG_"
      },
      "id": "6QzGBSgVELG_"
    },
    {
      "cell_type": "markdown",
      "source": [
        "# Test the model"
      ],
      "metadata": {
        "id": "64ZUYqmzDrFk"
      },
      "id": "64ZUYqmzDrFk"
    },
    {
      "cell_type": "markdown",
      "source": [
        "Now we test the model by passing an image to get predictions. While test the model we should make sure that the test image should meet the target size of the model, dimensions need to meet, and should undergo rescaling before giving it to the model."
      ],
      "metadata": {
        "id": "VnWNhONqDbuW"
      },
      "id": "VnWNhONqDbuW"
    },
    {
      "cell_type": "markdown",
      "source": [
        "## Import the packages and load the saved model"
      ],
      "metadata": {
        "id": "tad1MZ5eDx8J"
      },
      "id": "tad1MZ5eDx8J"
    },
    {
      "cell_type": "markdown",
      "source": [
        "As a first step to start prediction we import packages that are used for loading the model and used to expand the dimension of the image. We use the Keras package to load the model which was saved when we built the model."
      ],
      "metadata": {
        "id": "vZIsQEG_Dxlw"
      },
      "id": "vZIsQEG_Dxlw"
    },
    {
      "cell_type": "code",
      "execution_count": null,
      "id": "6a5007fc",
      "metadata": {
        "id": "6a5007fc"
      },
      "outputs": [],
      "source": [
        "from keras.models import load_model\n",
        "import numpy as np\n",
        "import cv2"
      ]
    },
    {
      "cell_type": "code",
      "execution_count": null,
      "id": "675991ce",
      "metadata": {
        "id": "675991ce",
        "outputId": "c1e6c45d-a698-443d-db00-db272a89ec2d"
      },
      "outputs": [
        {
          "name": "stdout",
          "output_type": "stream",
          "text": [
            "WARNING:tensorflow:Loading model from HDF5 will not restore the optimizer's weights, since the optimizer is an instance of `optimizer_experimental.Optimizer`\n"
          ]
        }
      ],
      "source": [
        "model=load_model('aslpng1.h5')"
      ]
    },
    {
      "cell_type": "markdown",
      "source": [
        "## Load the test image, pre-process it and predict"
      ],
      "metadata": {
        "id": "Bdpe6MExD8iV"
      },
      "id": "Bdpe6MExD8iV"
    },
    {
      "cell_type": "markdown",
      "source": [
        "Pre-processing the image includes converting the image to the array and resizing according to the model. Give the pre-processed image to the model to know to which class your model belongs to."
      ],
      "metadata": {
        "id": "zXBpbtVNEAAZ"
      },
      "id": "zXBpbtVNEAAZ"
    },
    {
      "cell_type": "code",
      "execution_count": null,
      "id": "d36e16b7",
      "metadata": {
        "id": "d36e16b7"
      },
      "outputs": [],
      "source": [
        "from skimage.transform import resize\n",
        "def detect(frame):\n",
        "    img = resize(frame,(64,64,1))\n",
        "    img = np.expand_dims(img,axis=0)\n",
        "    if(np.max(img)>1):\n",
        "        img=img/255.0\n",
        "    prediction=model.predict(img)\n",
        "    print(prediction)"
      ]
    },
    {
      "cell_type": "code",
      "execution_count": null,
      "id": "7a6e6877",
      "metadata": {
        "id": "7a6e6877",
        "outputId": "fe95ee62-a960-4644-ce2a-e24c59b80701"
      },
      "outputs": [
        {
          "name": "stdout",
          "output_type": "stream",
          "text": [
            "1/1 [==============================] - 4s 4s/step\n",
            "[[2.3015187e-10 1.3853491e-12 3.0363278e-08 3.1077703e-11 4.3090065e-10\n",
            "  1.3298483e-11 9.9999046e-01 9.5502728e-06 6.6853500e-13]]\n"
          ]
        }
      ],
      "source": [
        "frame=cv2.imread(r\"E:\\IBM\\dataset\\test_set\\G\\1.png\")\n",
        "data = detect(frame)                 "
      ]
    }
  ],
  "metadata": {
    "kernelspec": {
      "display_name": "Python 3 (ipykernel)",
      "language": "python",
      "name": "python3"
    },
    "language_info": {
      "codemirror_mode": {
        "name": "ipython",
        "version": 3
      },
      "file_extension": ".py",
      "mimetype": "text/x-python",
      "name": "python",
      "nbconvert_exporter": "python",
      "pygments_lexer": "ipython3",
      "version": "3.9.4"
    },
    "colab": {
      "provenance": []
    }
  },
  "nbformat": 4,
  "nbformat_minor": 5
}