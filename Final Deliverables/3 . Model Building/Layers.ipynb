{
  "cells": [
    {
      "cell_type": "markdown",
      "source": [
        "Team ID : PNT2022TMID44336"
      ],
      "metadata": {
        "id": "o9TC9g1UAj3k"
      },
      "id": "o9TC9g1UAj3k"
    },
    {
      "cell_type": "markdown",
      "source": [
        "# Adding Layers"
      ],
      "metadata": {
        "id": "scbcVD_B_oi7"
      },
      "id": "scbcVD_B_oi7"
    },
    {
      "cell_type": "markdown",
      "source": [
        "### the convolution layer"
      ],
      "metadata": {
        "id": "79bgJoC3_scF"
      },
      "id": "79bgJoC3_scF"
    },
    {
      "cell_type": "markdown",
      "source": [
        "The first layer of the neural network model, the convolution layer will be added. To create a convolution layer, Convolution2D class is used. It takes the number of feature detectors, feature detector size, expected input shape of the image, activation function as arguments. This layer applies feature detectors on the input image and returns a feature map (features from the image)."
      ],
      "metadata": {
        "id": "0kxCuooR_vn9"
      },
      "id": "0kxCuooR_vn9"
    },
    {
      "cell_type": "code",
      "execution_count": null,
      "id": "7d31cf4a",
      "metadata": {
        "id": "7d31cf4a"
      },
      "outputs": [],
      "source": [
        "model.add(Convolution2D(32,(3,3),input_shape=(64,64,1),activation='relu'))"
      ]
    },
    {
      "cell_type": "markdown",
      "source": [
        "### the pooling layer"
      ],
      "metadata": {
        "id": "ZbDNMqwq_6yg"
      },
      "id": "ZbDNMqwq_6yg"
    },
    {
      "cell_type": "markdown",
      "source": [
        "After the convolution layer, usually, the pooling layer is added. Max pooling layer can be added using MaxPooling2D class. It takes the pool size as a parameter. The efficient size of the pooling matrix is (2,2). It returns the pooled feature maps. (Note: Any number of convolution layers, pooling and dropout layers can be added)"
      ],
      "metadata": {
        "id": "n4jgxZ6h_80T"
      },
      "id": "n4jgxZ6h_80T"
    },
    {
      "cell_type": "code",
      "execution_count": null,
      "id": "6d963f95",
      "metadata": {
        "id": "6d963f95"
      },
      "outputs": [],
      "source": [
        "model.add(MaxPooling2D(pool_size=(2,2)))"
      ]
    },
    {
      "cell_type": "markdown",
      "source": [
        "### the flatten layer\n"
      ],
      "metadata": {
        "id": "0vAomdBBAFhp"
      },
      "id": "0vAomdBBAFhp"
    },
    {
      "cell_type": "markdown",
      "source": [
        "The flatten layer is used to convert the n-dimensional array to a 1-dimensional array. This 1D array will be given as input to ANN layers."
      ],
      "metadata": {
        "id": "VO_RFWe-ALg7"
      },
      "id": "VO_RFWe-ALg7"
    },
    {
      "cell_type": "code",
      "execution_count": null,
      "id": "bc08dfda",
      "metadata": {
        "id": "bc08dfda"
      },
      "outputs": [],
      "source": [
        "model.add(Flatten())"
      ]
    },
    {
      "cell_type": "markdown",
      "source": [
        "### the dense layers"
      ],
      "metadata": {
        "id": "VNrmts41AXT7"
      },
      "id": "VNrmts41AXT7"
    },
    {
      "cell_type": "markdown",
      "source": [
        "Three dense layers are added which usually takes the number of units/neurons. Specifying the activation function, kind of weight initialization is optional."
      ],
      "metadata": {
        "id": "LNEb6jTEAc-8"
      },
      "id": "LNEb6jTEAc-8"
    },
    {
      "cell_type": "code",
      "execution_count": null,
      "id": "bb0279d9",
      "metadata": {
        "id": "bb0279d9"
      },
      "outputs": [],
      "source": [
        "model.add(Dense(units=512,activation='relu'))"
      ]
    },
    {
      "cell_type": "code",
      "execution_count": null,
      "id": "10a37300",
      "metadata": {
        "id": "10a37300"
      },
      "outputs": [],
      "source": [
        "model.add(Dense(units=9,activation='softmax'))"
      ]
    }
  ],
  "metadata": {
    "kernelspec": {
      "display_name": "Python 3 (ipykernel)",
      "language": "python",
      "name": "python3"
    },
    "language_info": {
      "codemirror_mode": {
        "name": "ipython",
        "version": 3
      },
      "file_extension": ".py",
      "mimetype": "text/x-python",
      "name": "python",
      "nbconvert_exporter": "python",
      "pygments_lexer": "ipython3",
      "version": "3.9.4"
    },
    "colab": {
      "provenance": []
    }
  },
  "nbformat": 4,
  "nbformat_minor": 5
}