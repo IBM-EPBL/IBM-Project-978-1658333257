{
  "cells": [
    {
      "cell_type": "markdown",
      "source": [
        "Team ID : PNT2022TMID44336"
      ],
      "metadata": {
        "id": "wY4OYiNFBYBL"
      },
      "id": "wY4OYiNFBYBL"
    },
    {
      "cell_type": "markdown",
      "source": [
        "# Compile & Save"
      ],
      "metadata": {
        "id": "HmVH47LGBb1d"
      },
      "id": "HmVH47LGBb1d"
    },
    {
      "cell_type": "markdown",
      "source": [
        "After adding all the required layers, the model is to be compiled. For this step, loss function, optimizer, and metrics for evaluation can be passed as arguments."
      ],
      "metadata": {
        "id": "FTPQ1fzUBeQi"
      },
      "id": "FTPQ1fzUBeQi"
    },
    {
      "cell_type": "code",
      "execution_count": null,
      "id": "636546d2",
      "metadata": {
        "id": "636546d2"
      },
      "outputs": [],
      "source": [
        "model.compile(loss='categorical_crossentropy',optimizer='adam',metrics=['accuracy'])"
      ]
    },
    {
      "cell_type": "markdown",
      "source": [
        "# Fit and save the model"
      ],
      "metadata": {
        "id": "wnjjC7onBsVF"
      },
      "id": "wnjjC7onBsVF"
    },
    {
      "cell_type": "markdown",
      "source": [
        "Fit the neural network model with the train and test set, number of epochs, and validation steps."
      ],
      "metadata": {
        "id": "dc3jdxlyBu0J"
      },
      "id": "dc3jdxlyBu0J"
    },
    {
      "cell_type": "code",
      "execution_count": null,
      "id": "625fab82",
      "metadata": {
        "id": "625fab82",
        "outputId": "b1b2c7bc-b9d7-48cd-abf4-e2a9d738a388"
      },
      "outputs": [
        {
          "name": "stderr",
          "output_type": "stream",
          "text": [
            "C:\\Users\\DELL\\AppData\\Local\\Temp/ipykernel_14708/3736481484.py:1: UserWarning: `Model.fit_generator` is deprecated and will be removed in a future version. Please use `Model.fit`, which supports generators.\n",
            "  model.fit_generator(x_train,steps_per_epoch=24,epochs=10,validation_data=x_test,validation_steps=40)\n"
          ]
        },
        {
          "name": "stdout",
          "output_type": "stream",
          "text": [
            "Epoch 1/10\n",
            "24/24 [==============================] - ETA: 0s - loss: 0.0143 - accuracy: 0.9970WARNING:tensorflow:Your input ran out of data; interrupting training. Make sure that your dataset or generator can generate at least `steps_per_epoch * epochs` batches (in this case, 40 batches). You may need to use the repeat() function when building your dataset.\n",
            "24/24 [==============================] - 76s 3s/step - loss: 0.0143 - accuracy: 0.9970 - val_loss: 0.2239 - val_accuracy: 0.9756\n",
            "Epoch 2/10\n",
            "24/24 [==============================] - 27s 1s/step - loss: 0.0114 - accuracy: 0.9976\n",
            "Epoch 3/10\n",
            "24/24 [==============================] - 22s 898ms/step - loss: 0.0123 - accuracy: 0.9976\n",
            "Epoch 4/10\n",
            "24/24 [==============================] - 21s 851ms/step - loss: 0.0075 - accuracy: 0.9991\n",
            "Epoch 5/10\n",
            "24/24 [==============================] - 21s 870ms/step - loss: 0.0082 - accuracy: 0.9984\n",
            "Epoch 6/10\n",
            "24/24 [==============================] - 22s 906ms/step - loss: 0.0048 - accuracy: 0.9996\n",
            "Epoch 7/10\n",
            "24/24 [==============================] - 20s 846ms/step - loss: 0.0060 - accuracy: 0.9989\n",
            "Epoch 8/10\n",
            "24/24 [==============================] - 22s 913ms/step - loss: 0.0044 - accuracy: 0.9994\n",
            "Epoch 9/10\n",
            "24/24 [==============================] - 20s 837ms/step - loss: 0.0041 - accuracy: 0.9993\n",
            "Epoch 10/10\n",
            "24/24 [==============================] - 20s 840ms/step - loss: 0.0029 - accuracy: 0.9997\n"
          ]
        },
        {
          "data": {
            "text/plain": [
              "<keras.callbacks.History at 0x17a80508b80>"
            ]
          },
          "execution_count": 20,
          "metadata": {},
          "output_type": "execute_result"
        }
      ],
      "source": [
        "model.fit_generator(x_train,steps_per_epoch=24,epochs=10,validation_data=x_test,validation_steps=40)"
      ]
    },
    {
      "cell_type": "markdown",
      "source": [
        "The weights are to be saved for future use. The weights are saved in as .h5 file using save().\n",
        "\n"
      ],
      "metadata": {
        "id": "a5OGnoY8B12X"
      },
      "id": "a5OGnoY8B12X"
    },
    {
      "cell_type": "code",
      "execution_count": null,
      "id": "2ab59dfc",
      "metadata": {
        "id": "2ab59dfc",
        "outputId": "bb4f63cc-0a49-4fb3-bb69-56ccf73c8a55"
      },
      "outputs": [
        {
          "name": "stdout",
          "output_type": "stream",
          "text": [
            "WARNING:tensorflow:HDF5 format does not save weights of `optimizer_experimental.Optimizer`, your optimizer will be recompiled at loading time.\n"
          ]
        }
      ],
      "source": [
        "model.save('aslpng1.h5')"
      ]
    }
  ],
  "metadata": {
    "kernelspec": {
      "display_name": "Python 3 (ipykernel)",
      "language": "python",
      "name": "python3"
    },
    "language_info": {
      "codemirror_mode": {
        "name": "ipython",
        "version": 3
      },
      "file_extension": ".py",
      "mimetype": "text/x-python",
      "name": "python",
      "nbconvert_exporter": "python",
      "pygments_lexer": "ipython3",
      "version": "3.9.4"
    },
    "colab": {
      "provenance": []
    }
  },
  "nbformat": 4,
  "nbformat_minor": 5
}