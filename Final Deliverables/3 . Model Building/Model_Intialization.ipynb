{
  "cells": [
    {
      "cell_type": "markdown",
      "source": [
        "Team ID : PNT2022TMID44336"
      ],
      "metadata": {
        "id": "MIICS1EG9D-0"
      },
      "id": "MIICS1EG9D-0"
    },
    {
      "cell_type": "markdown",
      "source": [
        "# Model Intialization"
      ],
      "metadata": {
        "id": "6hRQ6P7R9bmI"
      },
      "id": "6hRQ6P7R9bmI"
    },
    {
      "cell_type": "markdown",
      "source": [
        "### Import the required model building libraries"
      ],
      "metadata": {
        "id": "mU8DW_NF9kyn"
      },
      "id": "mU8DW_NF9kyn"
    },
    {
      "cell_type": "markdown",
      "source": [
        "Import the libraries that are required to initialize the neural network layer, create and add different layers to the neural network model."
      ],
      "metadata": {
        "id": "LtRmjMjY9ubg"
      },
      "id": "LtRmjMjY9ubg"
    },
    {
      "cell_type": "code",
      "execution_count": null,
      "id": "59225da2",
      "metadata": {
        "id": "59225da2"
      },
      "outputs": [],
      "source": [
        "from keras.models import Sequential\n",
        "from keras.layers import Dense\n",
        "from keras.layers import Convolution2D\n",
        "from keras.layers import MaxPooling2D\n",
        "from keras.layers import Dropout\n",
        "from keras.layers import Flatten"
      ]
    },
    {
      "cell_type": "markdown",
      "source": [
        "### Initialize the model"
      ],
      "metadata": {
        "id": "-D0rFSod95qb"
      },
      "id": "-D0rFSod95qb"
    },
    {
      "cell_type": "markdown",
      "source": [
        "Initialize the neural network layer by creating a reference/object to the Sequential class."
      ],
      "metadata": {
        "id": "0gjD1UfG-F-Y"
      },
      "id": "0gjD1UfG-F-Y"
    },
    {
      "cell_type": "code",
      "execution_count": null,
      "id": "e0f4abd4",
      "metadata": {
        "id": "e0f4abd4"
      },
      "outputs": [],
      "source": [
        "model = Sequential()"
      ]
    }
  ],
  "metadata": {
    "kernelspec": {
      "display_name": "Python 3 (ipykernel)",
      "language": "python",
      "name": "python3"
    },
    "language_info": {
      "codemirror_mode": {
        "name": "ipython",
        "version": 3
      },
      "file_extension": ".py",
      "mimetype": "text/x-python",
      "name": "python",
      "nbconvert_exporter": "python",
      "pygments_lexer": "ipython3",
      "version": "3.9.4"
    },
    "colab": {
      "provenance": []
    }
  },
  "nbformat": 4,
  "nbformat_minor": 5
}